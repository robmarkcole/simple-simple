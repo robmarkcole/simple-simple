{
 "cells": [
  {
   "cell_type": "code",
   "execution_count": 36,
   "metadata": {},
   "outputs": [],
   "source": [
    "from datetime import timedelta\n",
    "from simplesimple import Building\n",
    "import pandas as pd\n",
    "import matplotlib.pyplot as plt\n",
    "\n",
    "conditioned_floor_area = 100\n",
    "building = Building(\n",
    "    heat_mass_capacity=165000 * conditioned_floor_area,\n",
    "    heat_transmission=200,\n",
    "    maximum_cooling_power=-1000,\n",
    "    maximum_heating_power=10000,\n",
    "    initial_building_temperature=16,\n",
    "    time_step_size=timedelta(minutes=10),\n",
    "    conditioned_floor_area=conditioned_floor_area\n",
    ")"
   ]
  },
  {
   "cell_type": "code",
   "execution_count": 39,
   "metadata": {},
   "outputs": [],
   "source": [
    "timesteps = [i for i in range(2000)]\n",
    "data = []\n",
    "\n",
    "for step in timesteps:\n",
    "    # simulate one time step\n",
    "    current_temp = building.current_temperature\n",
    "    building.step(outside_temperature=40, heating_setpoint=18, cooling_setpoint=26)\n",
    "    data.append({\n",
    "        'step': step,\n",
    "        'current_temp': current_temp\n",
    "        })"
   ]
  },
  {
   "cell_type": "code",
   "execution_count": 40,
   "metadata": {},
   "outputs": [
    {
     "data": {
      "text/plain": [
       "<AxesSubplot:>"
      ]
     },
     "execution_count": 40,
     "metadata": {},
     "output_type": "execute_result"
    },
    {
     "data": {
      "image/png": "[encoded data removed]",
      "text/plain": [
       "<Figure size 720x432 with 1 Axes>"
      ]
     },
     "metadata": {
      "needs_background": "light"
     },
     "output_type": "display_data"
    }
   ],
   "source": [
    "df = pd.DataFrame(data)\n",
    "\n",
    "fig, ax = plt.subplots(1,1,figsize=(10, 6))\n",
    "df['current_temp'].plot(ax=ax)"
   ]
  },
  {
   "cell_type": "code",
   "execution_count": null,
   "metadata": {},
   "outputs": [],
   "source": []
  }
 ],
 "metadata": {
  "interpreter": {
   "hash": "2df6f7d84146b01b28604e5e512b221bcf83e19ecfce5e3c51de1b046667c460"
  },
  "kernelspec": {
   "display_name": "Python 3.9.5 64-bit ('venv': venv)",
   "name": "python3"
  },
  "language_info": {
   "codemirror_mode": {
    "name": "ipython",
    "version": 3
   },
   "file_extension": ".py",
   "mimetype": "text/x-python",
   "name": "python",
   "nbconvert_exporter": "python",
   "pygments_lexer": "ipython3",
   "version": "3.9.5"
  },
  "orig_nbformat": 4
 },
 "nbformat": 4,
 "nbformat_minor": 2
}
